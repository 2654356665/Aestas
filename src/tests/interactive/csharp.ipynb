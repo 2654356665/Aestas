{
 "cells": [
  {
   "cell_type": "code",
   "execution_count": null,
   "metadata": {
    "dotnet_interactive": {
     "language": "pwsh"
    },
    "polyglot_notebook": {
     "kernelName": "pwsh"
    },
    "vscode": {
     "languageId": "polyglot-notebook"
    }
   },
   "outputs": [],
   "source": [
    "cd ../../../\n",
    "./aestas.ps1 build"
   ]
  },
  {
   "cell_type": "code",
   "execution_count": null,
   "metadata": {
    "dotnet_interactive": {
     "language": "csharp"
    },
    "polyglot_notebook": {
     "kernelName": "csharp"
    },
    "vscode": {
     "languageId": "polyglot-notebook"
    }
   },
   "outputs": [],
   "source": [
    "#!import privateVar.csx\n",
    "// use a individual file to store your private data, like:\n",
    "// #r \"C:\\\\Users\\\\YourUserName\\\\Source\\\\Aestas\\\\bin\\\\Release\\\\net8.0\\\\aestas.dll\"\n",
    "// #r \"C:\\\\Users\\\\YourUserName\\\\Source\\\\Aestas\\\\src\\\\csharp\\\\Aestas.CSharp\\\\bin\\\\Release\\\\net8.0\\\\Aestas.CSharp.dll\"\n",
    "// var geminiKey = \"Your Api Key\";\n",
    "// var name = \"Bot Name\";\n",
    "// var systemInstruction = \"Your System Instruction\";\n",
    "using Aestas;\n",
    "using static Aestas.Prim;\n",
    "using static Aestas.Core;\n",
    "using static Aestas.AutoInit;\n",
    "using static Aestas.Llms.Gemini;\n",
    "using Aestas.CSharp;\n",
    "using Microsoft.FSharp.Core;\n",
    "using Microsoft.FSharp.Collections;\n",
    "using Microsoft.FSharp.Control;"
   ]
  },
  {
   "cell_type": "code",
   "execution_count": null,
   "metadata": {
    "dotnet_interactive": {
     "language": "csharp"
    },
    "polyglot_notebook": {
     "kernelName": "csharp"
    },
    "vscode": {
     "languageId": "polyglot-notebook"
    }
   },
   "outputs": [],
   "source": [
    "var profile = new GProfile(FSharpHelper.MakeSome(geminiKey),\n",
    "    null,\n",
    "    [\n",
    "        new GSafetySetting(\"HARM_CATEGORY_HARASSMENT\", \"BLOCK_NONE\"),\n",
    "        new GSafetySetting(\"HARM_CATEGORY_HATE_SPEECH\", \"BLOCK_NONE\"),\n",
    "        new GSafetySetting(\"HARM_CATEGORY_SEXUALLY_EXPLICIT\", \"BLOCK_NONE\"),\n",
    "        new GSafetySetting(\"HARM_CATEGORY_DANGEROUS_CONTENT\", \"BLOCK_NONE\")\n",
    "    ],\n",
    "    new GenerationConfig(1.02, 4096, 64, 1));\n",
    "var model = new GeminiLlm(profile, \"gemini-1.5-flash-exp-0827\");\n",
    "var bot = new AestasBot() {\n",
    "    Name = name,\n",
    "    Model = model,\n",
    "    SystemInstruction = systemInstruction,\n",
    "    SystemInstructionBuilder = \n",
    "        PipeLineChain<Tuple<AestasBot, StringBuilder>>.FromFunc(x => Builtin.buildSystemInstruction(x.Item1, x.Item2)),\n",
    "    MessageReplyStrategy = BotMessageReplyStrategy.StrategyReplyAll\n",
    "};\n",
    "bot.SetPrefixBuilder(Builtin.buildPrefix);\n",
    "var display = \"\";\n",
    "var virtualDomain = new VirtualDomain(\n",
    "    FuncConvert.FromFunc<FSharpList<AestasContent>, Unit>(x => {\n",
    "        display = String.Join(\" \", x);\n",
    "        return FSharpHelper.UnitValue;\n",
    "    }),\n",
    "    FuncConvert.FromFunc<ulong, Unit>(x => FSharpHelper.UnitValue),\n",
    "    new AestasChatMember(1u, name),\n",
    "    new AestasChatMember(0u, \"User\"),\n",
    "    0u, \"Test\", true);\n",
    "bot.BindDomain(virtualDomain);"
   ]
  },
  {
   "cell_type": "code",
   "execution_count": null,
   "metadata": {
    "dotnet_interactive": {
     "language": "csharp"
    },
    "polyglot_notebook": {
     "kernelName": "csharp"
    },
    "vscode": {
     "languageId": "polyglot-notebook"
    }
   },
   "outputs": [],
   "source": [
    "FSharpAsync.RunSynchronously(virtualDomain.Input(ListModule.OfSeq<AestasContent>([\n",
    "    AestasContent.NewAestasText(\"你好\")\n",
    "])), null, null);\n",
    "System.Console.WriteLine(display);\n",
    "foreach (var msg in virtualDomain.Messages)\n",
    "{\n",
    "    System.Console.WriteLine($\"{msg.Parse().sender.name}: {msg.Preview}\");\n",
    "}"
   ]
  }
 ],
 "metadata": {
  "kernelspec": {
   "display_name": ".NET (C#)",
   "language": "C#",
   "name": ".net-csharp"
  },
  "language_info": {
   "name": "python"
  },
  "polyglot_notebook": {
   "kernelInfo": {
    "defaultKernelName": "csharp",
    "items": [
     {
      "aliases": [],
      "name": "csharp"
     }
    ]
   }
  }
 },
 "nbformat": 4,
 "nbformat_minor": 2
}
