{
 "cells": [
  {
   "cell_type": "code",
   "execution_count": null,
   "metadata": {
    "dotnet_interactive": {
     "language": "pwsh"
    },
    "polyglot_notebook": {
     "kernelName": "pwsh"
    },
    "vscode": {
     "languageId": "polyglot-notebook"
    }
   },
   "outputs": [],
   "source": [
    "cd ../../../\n",
    "./aestas.ps1 build"
   ]
  },
  {
   "cell_type": "code",
   "execution_count": null,
   "metadata": {
    "dotnet_interactive": {
     "language": "fsharp"
    },
    "polyglot_notebook": {
     "kernelName": "fsharp"
    },
    "vscode": {
     "languageId": "polyglot-notebook"
    }
   },
   "outputs": [],
   "source": [
    "#load \"privateVar.fsx\"\n",
    "// use a individual file to store your private data, like:\n",
    "// #r \"C:\\\\Users\\\\YourUserName\\\\Source\\\\Aestas\\\\bin\\\\Debug\\\\net8.0\\\\aestas.dll\"\n",
    "// let geminiKey = \"Your Api Key\"\n",
    "// let name = \"Bot Name\"\n",
    "// let systemInstruction = \"Your System Instruction\"\n",
    "open PrivateVar\n",
    "open Aestas\n",
    "open Aestas.Prim\n",
    "open Aestas.Core\n",
    "open Aestas.Core.BotHelper\n",
    "open Aestas.AutoInit\n",
    "open Aestas.Llms.Gemini"
   ]
  },
  {
   "cell_type": "code",
   "execution_count": null,
   "metadata": {
    "dotnet_interactive": {
     "language": "fsharp"
    },
    "polyglot_notebook": {
     "kernelName": "fsharp"
    },
    "vscode": {
     "languageId": "polyglot-notebook"
    }
   },
   "outputs": [],
   "source": [
    "// seq {InitTypes.Command} |> set |> AutoInit.init true\n",
    "let model = GeminiLlm({\n",
    "    api_key = Some geminiKey\n",
    "    gcloudpath = None\n",
    "    safetySettings = [|\n",
    "        {category = \"HARM_CATEGORY_HARASSMENT\"; threshold = \"BLOCK_NONE\"}\n",
    "        {category = \"HARM_CATEGORY_HATE_SPEECH\"; threshold = \"BLOCK_NONE\"}\n",
    "        {category = \"HARM_CATEGORY_SEXUALLY_EXPLICIT\"; threshold = \"BLOCK_NONE\"}\n",
    "        {category = \"HARM_CATEGORY_DANGEROUS_CONTENT\"; threshold = \"BLOCK_NONE\"}\n",
    "    |]\n",
    "    generation_configs = {\n",
    "        temperature = 1.02\n",
    "        maxLength = 4096\n",
    "        topK = 64\n",
    "        topP = 1.\n",
    "    } |> Some\n",
    "    }, \n",
    "    \"gemini-1.5-flash-exp-0827\")\n",
    "let bot = \n",
    "    createBot {\n",
    "        name = name\n",
    "        model = model\n",
    "        systemInstruction = systemInstruction |> Some\n",
    "        systemInstructionBuilder = Builtin.buildSystemInstruction |> PipeLineChain |> Some\n",
    "        contentLoadStrategy = None\n",
    "        contentParseStrategy = None\n",
    "        messageReplyStrategy = StrategyReplyAll |> Some\n",
    "        messageCacheStrategy = None\n",
    "        contextStrategy = None\n",
    "        inputPrefixBuilder = Builtin.buildPrefix |> Some\n",
    "        userCommandPrivilege = [\n",
    "            0u, CommandPrivilege.High\n",
    "        ] |> Some\n",
    "    }\n",
    "let mutable display = \"\"\n",
    "let virtualDomain = VirtualDomain((fun s -> display <- s.ToString()), ignore, {\n",
    "        uid = 1u\n",
    "        name = name\n",
    "    },{\n",
    "        uid = 0u\n",
    "        name = \"User\"\n",
    "    }, 0u, \"Test\", true)\n",
    "bindDomain bot virtualDomain"
   ]
  },
  {
   "cell_type": "code",
   "execution_count": null,
   "metadata": {
    "dotnet_interactive": {
     "language": "fsharp"
    },
    "polyglot_notebook": {
     "kernelName": "fsharp"
    },
    "vscode": {
     "languageId": "polyglot-notebook"
    }
   },
   "outputs": [],
   "source": [
    "open Aestas.Core.CommandHelper\n",
    "let args = [Identifier \"name\"; String \"Vespera\"; Identifier \"books\"; AtomTuple [String \"Math\"; String \"Physics\"]]\n",
    "let args', errors = args |> parseArguments [\n",
    "    ParamString(\"name\", None)\n",
    "    ParamTuple(\"books\", None)\n",
    "    ParamNumber(\"age\", None)\n",
    "    ParamString(\"city\", Some \"Celestia\")\n",
    "]\n",
    "args'[\"name\"], args'[\"books\"], args'[\"age\"], args'[\"city\"], errors"
   ]
  },
  {
   "cell_type": "code",
   "execution_count": null,
   "metadata": {
    "dotnet_interactive": {
     "language": "fsharp"
    },
    "polyglot_notebook": {
     "kernelName": "fsharp"
    },
    "vscode": {
     "languageId": "polyglot-notebook"
    }
   },
   "outputs": [],
   "source": [
    "type TestCommand() =\n",
    "    interface ICommand with\n",
    "        member _.Name = \"test\"\n",
    "        member _.Help = \"Test Command\"\n",
    "        member _.AccessibleDomain = CommandAccessibleDomain.All\n",
    "        member _.Privilege = CommandPrivilege.Normal\n",
    "        member _.Execute env args =\n",
    "            env.log \"02\"; Unit"
   ]
  },
  {
   "cell_type": "code",
   "execution_count": null,
   "metadata": {
    "dotnet_interactive": {
     "language": "fsharp"
    },
    "polyglot_notebook": {
     "kernelName": "fsharp"
    },
    "vscode": {
     "languageId": "polyglot-notebook"
    }
   },
   "outputs": [],
   "source": [
    "TestCommand() |> addCommand bot"
   ]
  },
  {
   "cell_type": "code",
   "execution_count": null,
   "metadata": {
    "dotnet_interactive": {
     "language": "fsharp"
    },
    "polyglot_notebook": {
     "kernelName": "fsharp"
    },
    "vscode": {
     "languageId": "polyglot-notebook"
    }
   },
   "outputs": [],
   "source": [
    "TestCommand() |> updateCommand bot"
   ]
  },
  {
   "cell_type": "code",
   "execution_count": null,
   "metadata": {
    "dotnet_interactive": {
     "language": "fsharp"
    },
    "polyglot_notebook": {
     "kernelName": "fsharp"
    },
    "vscode": {
     "languageId": "polyglot-notebook"
    }
   },
   "outputs": [],
   "source": [
    "virtualDomain.Input([AestasText \"你好\"]) |> Async.Ignore |> Async.RunSynchronously\n",
    "printfn \"%s\" display\n",
    "virtualDomain.Messages |> Seq.iter (fun x -> let y = x.Parse() in printfn \"%s: %s\" y.sender.name x.Preview)"
   ]
  },
  {
   "cell_type": "code",
   "execution_count": null,
   "metadata": {
    "dotnet_interactive": {
     "language": "fsharp"
    },
    "polyglot_notebook": {
     "kernelName": "fsharp"
    },
    "vscode": {
     "languageId": "polyglot-notebook"
    }
   },
   "outputs": [],
   "source": [
    "bot.ClearCachedContext virtualDomain"
   ]
  },
  {
   "cell_type": "code",
   "execution_count": null,
   "metadata": {
    "dotnet_interactive": {
     "language": "fsharp"
    },
    "polyglot_notebook": {
     "kernelName": "fsharp"
    },
    "vscode": {
     "languageId": "polyglot-notebook"
    }
   },
   "outputs": [],
   "source": [
    "Logger.getLogs(0) |> Seq.iter (fun x -> printfn \"%A\" x)"
   ]
  }
 ],
 "metadata": {
  "kernelspec": {
   "display_name": ".NET (C#)",
   "language": "C#",
   "name": ".net-csharp"
  },
  "language_info": {
   "name": "python"
  },
  "polyglot_notebook": {
   "kernelInfo": {
    "defaultKernelName": "csharp",
    "items": [
     {
      "aliases": [],
      "name": "csharp"
     }
    ]
   }
  }
 },
 "nbformat": 4,
 "nbformat_minor": 2
}
